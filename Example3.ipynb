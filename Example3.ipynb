{
  "nbformat": 4,
  "nbformat_minor": 0,
  "metadata": {
    "colab": {
      "provenance": []
    },
    "kernelspec": {
      "name": "python3",
      "display_name": "Python 3"
    },
    "language_info": {
      "name": "python"
    }
  },
  "cells": [
    {
      "cell_type": "markdown",
      "source": [
        "**Практический пример #3** \\\\\n",
        "Доклад: Структурированная нормализация текста с использованием недетерминированных FST \\\\\n",
        "Автор: Владимир Марков ([@markovvn1](https://t.me/markovvn1))"
      ],
      "metadata": {
        "id": "WgS6tFtUj9uJ"
      }
    },
    {
      "cell_type": "code",
      "source": [
        "!pip install pynini==2.1.6"
      ],
      "metadata": {
        "colab": {
          "base_uri": "https://localhost:8080/"
        },
        "id": "8SlvAUhdVtmL",
        "outputId": "457f402c-899f-4b48-a5d9-4d94191f6081"
      },
      "execution_count": null,
      "outputs": [
        {
          "output_type": "stream",
          "name": "stdout",
          "text": [
            "Collecting pynini==2.1.6\n",
            "  Downloading pynini-2.1.6-cp310-cp310-manylinux_2_28_x86_64.whl (154.5 MB)\n",
            "\u001b[2K     \u001b[90m━━━━━━━━━━━━━━━━━━━━━━━━━━━━━━━━━━━━━━━━\u001b[0m \u001b[32m154.5/154.5 MB\u001b[0m \u001b[31m2.6 MB/s\u001b[0m eta \u001b[36m0:00:00\u001b[0m\n",
            "\u001b[?25hInstalling collected packages: pynini\n",
            "Successfully installed pynini-2.1.6\n"
          ]
        }
      ]
    },
    {
      "cell_type": "code",
      "execution_count": null,
      "metadata": {
        "id": "zgC7dMD6VQWt"
      },
      "outputs": [],
      "source": [
        "import pynini"
      ]
    },
    {
      "cell_type": "code",
      "source": [
        "def draw(fst):\n",
        "  ascii_table = pynini.SymbolTable()\n",
        "  ascii_table.add_symbol(\"<eps>\", 0)\n",
        "  for i in range(12, 128):\n",
        "    ascii_table.add_symbol(chr(i), i)\n",
        "  fst.set_input_symbols(ascii_table)\n",
        "  fst.set_output_symbols(ascii_table)\n",
        "  return fst"
      ],
      "metadata": {
        "id": "US-QxDBmhz05"
      },
      "execution_count": null,
      "outputs": []
    },
    {
      "cell_type": "code",
      "source": [
        "hours = pynini.cross(\"01:\", \"один час\") | pynini.cross(\"02:\", \"два часа\") | pynini.cross(\"03:\", \"три часа\")\n",
        "minutes = pynini.cross(\"00\", \"\") | pynini.cross(\"30\", \" тридцать минут\")\n",
        "normalize_time_fst = (hours + minutes).optimize()\n",
        "\n",
        "convert_AM_hours = pynini.union(*[pynini.cross(f\"{i:02d}\", f\"{i % 12:02d}\") for i in range(1, 13)])\n",
        "convert_PM_hours = pynini.union(*[pynini.cross(f\"{i:02d}\", f\"{i % 12 + 12:02d}\") for i in range(1, 13)])\n",
        "any_minutes = pynini.union(*\"012345\") + pynini.union(*\"0123456789\")\n",
        "convert_time_fst = (convert_AM_hours + \":\" + any_minutes + pynini.cross(\" AM\", \"\")) | (convert_PM_hours + \":\" + any_minutes + pynini.cross(\" PM\", \"\"))\n",
        "convert_time_fst = convert_time_fst.optimize()"
      ],
      "metadata": {
        "id": "pXDMQXBIhDpe"
      },
      "execution_count": null,
      "outputs": []
    },
    {
      "cell_type": "code",
      "source": [
        "sigma_star = pynini.union(*[f\"[{i}]\" for i in range(1, 256)]).closure()\n",
        "normalize_time_cdr = pynini.cdrewrite(normalize_time_fst, \"\", \"\", sigma_star)\n",
        "convert_time_cdr = pynini.cdrewrite(convert_time_fst, pynini.union(*\" \", \"[BOS]\"), pynini.union(*\" ,.\", \"[EOS]\"), sigma_star)\n",
        "fst = pynini.compose(convert_time_cdr, normalize_time_cdr).optimize()"
      ],
      "metadata": {
        "id": "tXs5htYLlC_-"
      },
      "execution_count": null,
      "outputs": []
    },
    {
      "cell_type": "code",
      "source": [
        "print((\"Завтра в 03:00 в парке\" @ fst).string())\n",
        "print((\"В 01:30 AM в парке\" @ fst).string())\n",
        "print((\"Агент 02 ждет в 02:00\" @ fst).string())\n",
        "print((\"Агент 02 ждет в 12:30 AM\" @ fst).string())"
      ],
      "metadata": {
        "colab": {
          "base_uri": "https://localhost:8080/"
        },
        "id": "GSaCQgMUiBwH",
        "outputId": "f15676c5-ea76-4a47-cfc3-2684efb3b622"
      },
      "execution_count": null,
      "outputs": [
        {
          "output_type": "stream",
          "name": "stdout",
          "text": [
            "Завтра в три часа в парке\n",
            "В один час тридцать минут в парке\n",
            "Агент 02 ждет в два часа\n",
            "Агент 02 ждет в 00:30\n"
          ]
        }
      ]
    }
  ]
}