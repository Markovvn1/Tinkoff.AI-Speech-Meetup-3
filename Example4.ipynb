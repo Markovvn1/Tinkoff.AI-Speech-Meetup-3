{
  "nbformat": 4,
  "nbformat_minor": 0,
  "metadata": {
    "colab": {
      "provenance": []
    },
    "kernelspec": {
      "name": "python3",
      "display_name": "Python 3"
    },
    "language_info": {
      "name": "python"
    }
  },
  "cells": [
    {
      "cell_type": "markdown",
      "source": [
        "**Практический пример #4** \\\\\n",
        "Доклад: Структурированная нормализация текста с использованием недетерминированных FST \\\\\n",
        "Автор: Владимир Марков ([@markovvn1](https://t.me/markovvn1))"
      ],
      "metadata": {
        "id": "WgS6tFtUj9uJ"
      }
    },
    {
      "cell_type": "code",
      "source": [
        "!pip install pynini==2.1.6"
      ],
      "metadata": {
        "colab": {
          "base_uri": "https://localhost:8080/"
        },
        "id": "8SlvAUhdVtmL",
        "outputId": "31bbe3a6-6231-461f-879c-8af47c6ee823"
      },
      "execution_count": null,
      "outputs": [
        {
          "output_type": "stream",
          "name": "stdout",
          "text": [
            "Collecting pynini==2.1.6\n",
            "  Downloading pynini-2.1.6-cp310-cp310-manylinux_2_28_x86_64.whl (154.5 MB)\n",
            "\u001b[2K     \u001b[90m━━━━━━━━━━━━━━━━━━━━━━━━━━━━━━━━━━━━━━━━\u001b[0m \u001b[32m154.5/154.5 MB\u001b[0m \u001b[31m5.2 MB/s\u001b[0m eta \u001b[36m0:00:00\u001b[0m\n",
            "\u001b[?25hInstalling collected packages: pynini\n",
            "Successfully installed pynini-2.1.6\n"
          ]
        }
      ]
    },
    {
      "cell_type": "code",
      "execution_count": null,
      "metadata": {
        "id": "zgC7dMD6VQWt"
      },
      "outputs": [],
      "source": [
        "import pynini"
      ]
    },
    {
      "cell_type": "code",
      "source": [
        "TOKEN_BEGIN = \"[token_begin]\"\n",
        "TOKEN_SEP = \"[token_sep]\"\n",
        "TOKEN_END = \"[token_end]\"\n",
        "ALPHABIT = pynini.union(*[f\"[{i}]\" for i in range(1, 256)]).optimize()\n",
        "TOKEN_STAR = (ALPHABIT | (TOKEN_BEGIN + pynini.closure(ALPHABIT) + TOKEN_SEP + pynini.closure(ALPHABIT) + TOKEN_END)).closure()\n",
        "\n",
        "class TokensFst:\n",
        "  @staticmethod\n",
        "  def _build_time24():\n",
        "    hours = pynini.union(*[f\"{i:02d}\" for i in range(24)])\n",
        "    minutes = pynini.union(*\"012345\") + pynini.union(*\"0123456789\")\n",
        "    res = hours + \":\" + minutes\n",
        "    return res.optimize()\n",
        "\n",
        "  @staticmethod\n",
        "  def _build_time12():\n",
        "    hours = pynini.union(*[f\"{i:02d}\" for i in range(12)])\n",
        "    minutes = pynini.union(*\"012345\") + pynini.union(*\"0123456789\")\n",
        "    res = hours + \":\" + minutes + pynini.union(\" \", \"\") + pynini.union(\"am\", \"AM\", \"pm\", \"PM\")\n",
        "    return res.optimize()\n",
        "\n",
        "  @staticmethod\n",
        "  def _build_int():\n",
        "    return pynini.union(*\"0123456789\").closure(1).optimize()\n",
        "\n",
        "  @classmethod\n",
        "  def build_create_tokens(cls):\n",
        "    time12_fst = pynini.cross(\"\", TOKEN_BEGIN + \"time12\" + TOKEN_SEP) + cls._build_time12() + pynini.cross(\"\", TOKEN_END)\n",
        "    time12_cdr = pynini.cdrewrite(time12_fst, pynini.union(*\" \", '[BOS]'), pynini.union(*\" ,.\", '[EOS]'), TOKEN_STAR)\n",
        "\n",
        "    time24_fst = pynini.cross(\"\", TOKEN_BEGIN + \"time24\" + TOKEN_SEP) + cls._build_time24() + pynini.cross(\"\", TOKEN_END)\n",
        "    time24_cdr = pynini.cdrewrite(time24_fst, pynini.union(*\" \", '[BOS]'), pynini.union(*\" ,.\", '[EOS]'), TOKEN_STAR)\n",
        "\n",
        "    int_fst = pynini.cross(\"\", TOKEN_BEGIN + \"int\" + TOKEN_SEP) + cls._build_int() + pynini.cross(\"\", TOKEN_END)\n",
        "    all_except_digits = ALPHABIT - pynini.union(*\"0123456789\")\n",
        "    int_cdr = pynini.cdrewrite(int_fst, all_except_digits | '[BOS]', all_except_digits | '[EOS]', TOKEN_STAR)\n",
        "    return time12_cdr @ time24_cdr @ int_cdr\n",
        "\n",
        "  @staticmethod\n",
        "  def build_token_view():\n",
        "    tokens = pynini.cross(TOKEN_BEGIN, \"<\") | pynini.cross(TOKEN_SEP, \"|\") | pynini.cross(TOKEN_END, \">\")\n",
        "    return pynini.cdrewrite(tokens, \"\", \"\", pynini.closure(ALPHABIT | TOKEN_BEGIN | TOKEN_SEP | TOKEN_END))\n",
        "\n",
        "  @staticmethod\n",
        "  def build_token_rm():\n",
        "    convert_tokens = pynini.cross(TOKEN_BEGIN + pynini.closure(ALPHABIT) + TOKEN_SEP, \"\") + pynini.closure(ALPHABIT) + pynini.cross(TOKEN_END, \"\")\n",
        "    return pynini.cdrewrite(convert_tokens, \"\", \"\", TOKEN_STAR)"
      ],
      "metadata": {
        "id": "pXDMQXBIhDpe"
      },
      "execution_count": null,
      "outputs": []
    },
    {
      "cell_type": "code",
      "source": [
        "class AnalysisFst:\n",
        "  @staticmethod\n",
        "  def build_convert_time_12_to_24():\n",
        "    convert_AM_hours = pynini.union(*[pynini.cross(f\"{i:02d}\", f\"{i % 12:02d}\") for i in range(1, 13)])\n",
        "    convert_PM_hours = pynini.union(*[pynini.cross(f\"{i:02d}\", f\"{i % 12 + 12:02d}\") for i in range(1, 13)])\n",
        "    any_minutes = pynini.union(*\"012345\") + pynini.union(*\"0123456789\")\n",
        "    convert_time = (convert_AM_hours + \":\" + any_minutes + pynini.cross(\" AM\", \"\")) | (convert_PM_hours + \":\" + any_minutes + pynini.cross(\" PM\", \"\"))\n",
        "    convert_token = pynini.cross(\"time12\", \"time24\") + TOKEN_SEP + convert_time\n",
        "    return pynini.cdrewrite(TOKEN_BEGIN + convert_token + TOKEN_END, \"\", \"\", TOKEN_STAR)"
      ],
      "metadata": {
        "id": "3txjtuHbGItr"
      },
      "execution_count": null,
      "outputs": []
    },
    {
      "cell_type": "code",
      "source": [
        "class NormalizeFst:\n",
        "  @staticmethod\n",
        "  def build_normalize_time():\n",
        "    # Для примера реализован перевод только 23:11 в текст\n",
        "    convert_time = pynini.cross(\"23:11\", \"двадцать три часа одиннадцать минут\")\n",
        "    convert_token = pynini.cross(\"time24\", \"text\") + TOKEN_SEP + convert_time\n",
        "    return pynini.cdrewrite(TOKEN_BEGIN + convert_token + TOKEN_END, \"\", \"\", TOKEN_STAR)\n",
        "\n",
        "  @staticmethod\n",
        "  def build_normalize_int():\n",
        "    # Для преобразования любого числа в текст можно использовать pynini.reverse, который позволяет \"читать\" число с конца\n",
        "    # Таким способом легко определять разряд числа и правильно его преобразовывать\n",
        "    convert_int = pynini.reverse(pynini.cross(\"01\", pynini.reverse(\"десять\")) | pynini.cross(\"11\", pynini.reverse(\"одинадцать\")) | pynini.cross(\"21\", pynini.reverse(\"двенадцать\")))\n",
        "    convert_token = pynini.cross(\"int\", \"text\") + TOKEN_SEP + convert_int\n",
        "    return pynini.cdrewrite(TOKEN_BEGIN + convert_token + TOKEN_END, \"\", \"\", TOKEN_STAR)"
      ],
      "metadata": {
        "id": "aUZJEnzKUgzO"
      },
      "execution_count": null,
      "outputs": []
    },
    {
      "cell_type": "code",
      "source": [
        "create_tokens = TokensFst.build_create_tokens()\n",
        "token_view = TokensFst.build_token_view()\n",
        "token_rm = TokensFst.build_token_rm()\n",
        "convert_time = AnalysisFst.build_convert_time_12_to_24()\n",
        "norm_int = NormalizeFst.build_normalize_int()\n",
        "norm_time = NormalizeFst.build_normalize_time()\n",
        "\n",
        "fst = create_tokens @ convert_time @ norm_int @ norm_time @ token_rm\n",
        "print((\"В 11:11 PM придет:11 гостей\" @ fst).string())\n",
        "print((\"В 11:11 PM придет:11 гостей\" @ create_tokens @ convert_time @ norm_int @ norm_time @ token_view).string())"
      ],
      "metadata": {
        "colab": {
          "base_uri": "https://localhost:8080/"
        },
        "id": "9qfgW2ToUeL3",
        "outputId": "db8ab101-6f4d-49a2-cec5-72bf06594332"
      },
      "execution_count": null,
      "outputs": [
        {
          "output_type": "stream",
          "name": "stdout",
          "text": [
            "В двадцать три часа одиннадцать минут придет:одинадцать гостей\n",
            "В <text|двадцать три часа одиннадцать минут> придет:<text|одинадцать> гостей\n"
          ]
        }
      ]
    }
  ]
}